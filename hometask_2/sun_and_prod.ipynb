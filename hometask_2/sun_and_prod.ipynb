{
 "cells": [
  {
   "cell_type": "markdown",
   "metadata": {},
   "source": [
    "#### The Two Wise Men Problem\n",
    "\n",
    "Two wise men, Sage P and Sage S, are given two different natural numbers 𝑥 and 𝑦, where 1<𝑥,𝑦<100.\n",
    "\n",
    "Sage P is told the product 𝑃=𝑥⋅𝑦, while Sage S is told the sum 𝑆=𝑥+𝑦. Neither of them knows the actual values of 𝑥 and 𝑦.\n",
    "\n",
    "The following conversation takes place:\n",
    "\n",
    "Sage P: \"I don't know what the numbers are.\"\n",
    "\n",
    "Sage S: \"I knew that already.\"\n",
    "\n",
    "Sage P: \"Oh, now I know the numbers!\"\n",
    "\n",
    "Sage S: \"And now I do too!\"\n",
    "\n",
    "What are the numbers 𝑥 and 𝑦?"
   ]
  },
  {
   "cell_type": "code",
   "execution_count": 2,
   "metadata": {},
   "outputs": [
    {
     "name": "stdout",
     "output_type": "stream",
     "text": [
      "(Сума, Добуток) = (17, 52), (x, y) = (4, 13)\n"
     ]
    }
   ],
   "source": [
    "limit = 100\n",
    "\n",
    "# Створюємо словник для зберігання кількості входжень кожного добутку x * y до їх розмови.\n",
    "allowable_products_before = {} \n",
    "for x in range(2, limit): \n",
    "    for y in range(x + 1, limit - x): \n",
    "        product = x * y\n",
    "        # Якщо цей добуток ще не був зустрінутий, додаємо його до словника.\n",
    "        if product not in allowable_products_before: \n",
    "            allowable_products_before[product] = 1 \n",
    "        # Якщо цей добуток вже був, збільшуємо кількість його входжень.\n",
    "        else:\n",
    "            allowable_products_before[product] += 1\n",
    "\n",
    "# Створюємо словник для зберігання заборонених сум x + y, коли P говорить \"Я не знаю\".\n",
    "not_allowed_say_p = {}  \n",
    "for x in range(2, limit): \n",
    "    for y in range(x + 1, limit - x): \n",
    "        product = x * y\n",
    "        # Якщо кількість входжень цього добутку дорівнює 1, то сума x + y недопустима.\n",
    "        if allowable_products_before[product] == 1 :\n",
    "            not_allowed_say_p[x + y] = 1  \n",
    "\n",
    "# Створюємо словник для зберігання кількості входжень кожного добутку x * (n - x),\n",
    "# де n є сумою x і y, яка не була відмічена як недопустима.\n",
    "allowable_products_after_p = {} \n",
    "for n in range(2, limit):\n",
    "    if n not in not_allowed_say_p:\n",
    "       for x in range(2, n // 2 + 1):\n",
    "            product = x * (n - x)\n",
    "            # Якщо цей добуток входить до списку розмови та має більше одного входження,\n",
    "            # додаємо його до словника.\n",
    "            if product in allowable_products_before and allowable_products_before[product] > 1:\n",
    "               if product in allowable_products_after_p:\n",
    "                   allowable_products_after_p[product] += 1\n",
    "               else:\n",
    "                   allowable_products_after_p[product] = 1 \n",
    "\n",
    "# Створюємо словник для зберігання кількості входжень суми x + y,\n",
    "# яка може бути поділена на x і (n - x), коли S говорить \"Я не знаю\".\n",
    "allowable_say_s = {}  \n",
    "for n in range(2, limit):\n",
    "    if n not in not_allowed_say_p:\n",
    "       for x in range(2, n // 2 + 1):\n",
    "           product = x * (n - x)\n",
    "           # Якщо цей добуток входить до списку розмови та має тільки одне входження,\n",
    "           # додаємо його до словника.\n",
    "           if product in allowable_products_after_p and allowable_products_after_p[product] == 1:\n",
    "               if n in allowable_say_s:\n",
    "                   allowable_say_s[n] += 1\n",
    "               else:\n",
    "                   allowable_say_s[n] = 1\n",
    "\n",
    "# Виводимо результати, де кількість входжень суми n дорівнює 1.\n",
    "for n in allowable_say_s: \n",
    "    if allowable_say_s[n] == 1:\n",
    "        for x in range(2, n // 2 + 1):\n",
    "            product = x * (n - x)\n",
    "            # Якщо цей добуток входить до списку розмови та має тільки одне входження,\n",
    "            # виводимо його разом з значеннями x та (n - x).\n",
    "            if product in allowable_products_after_p and allowable_products_after_p[product] == 1:\n",
    "                print('(Сума, Добуток) = (%d, %d), (x, y) = (%d, %d)' % (n, product, x, n - x))"
   ]
  },
  {
   "cell_type": "code",
   "execution_count": 3,
   "metadata": {},
   "outputs": [
    {
     "name": "stdout",
     "output_type": "stream",
     "text": [
      "In total, there are:\n",
      "- 4851 pairs of numbers in interval [2, 99]\n",
      "- 2843 unique products of those pairs of numbers\n",
      "- 195 unique sums of those pairs of numbers\n"
     ]
    }
   ],
   "source": [
    "import numpy as np\n",
    "\n",
    "# Build the 2d array of pairs of numbers in the interval [2, 99]\n",
    "# Note: the order of numbers in the pair is not important, i.e. the pair (2, 3) is the same as the pair (3, 2)\n",
    "numbers = np.array([\n",
    "    [a, b]\n",
    "    for a in range(2, 100)\n",
    "    for b in range(a, 100)\n",
    "])\n",
    "\n",
    "# To reduce the range of possible pairs of numbers, \"Prod\" can consider only\n",
    "# integers in the interval [2, 99] whose product is equal to given him number\n",
    "# ---------------------------------------------------------------------------\n",
    "# Each key of the dictionary is related to the 2d array\n",
    "# of pairs of numbers whose product is equal to that key\n",
    "prods = {\n",
    "    p: numbers[numbers.prod(axis=1) == p]\n",
    "    for p in np.unique(numbers.prod(axis=1))\n",
    "}\n",
    "\n",
    "# \"Sum\" can do the same with given him number\n",
    "# -----------------------------------------------------\n",
    "# Each key of the dictionary is related to the 2d array\n",
    "# of pairs of numbers whose sum is equal to that key\n",
    "sums = {\n",
    "    s: numbers[numbers.sum(axis=1) == s]\n",
    "    for s in np.unique(numbers.sum(axis=1))\n",
    "}\n",
    "\n",
    "print(\"In total, there are:\")\n",
    "print(f\"- {len(numbers)} pairs of numbers in interval [2, 99]\")\n",
    "print(f\"- {len(prods)} unique products of those pairs of numbers\")\n",
    "print(f\"- {len(sums)} unique sums of those pairs of numbers\")"
   ]
  },
  {
   "cell_type": "code",
   "execution_count": 4,
   "metadata": {},
   "outputs": [
    {
     "name": "stdout",
     "output_type": "stream",
     "text": [
      "Count of updated pairs of numbers: 145\n"
     ]
    }
   ],
   "source": [
    "# Update the pairs of numbers:\n",
    "# consider the pairs related with each sum, and keep only those whose products have more than one related pair\n",
    "numbers = np.concatenate([\n",
    "    pairs\n",
    "    for pairs in sums.values()\n",
    "    if all(prods[p].shape[0] != 1 for p in pairs.prod(axis=1))\n",
    "])\n",
    "\n",
    "print(f\"Count of updated pairs of numbers: {len(numbers)}\")"
   ]
  },
  {
   "cell_type": "code",
   "execution_count": 5,
   "metadata": {},
   "outputs": [
    {
     "name": "stdout",
     "output_type": "stream",
     "text": [
      "Count of updated pairs of numbers: 86\n"
     ]
    }
   ],
   "source": [
    "# Define new pairs for products based on updated pairs of numbers\n",
    "prods = {\n",
    "    p: numbers[numbers.prod(axis=1) == p]\n",
    "    for p in np.unique(numbers.prod(axis=1))\n",
    "}\n",
    "\n",
    "# Update the pairs of numbers:\n",
    "# consider the pairs related with each product, and keep only those that are single for a related product\n",
    "numbers = np.concatenate([\n",
    "    pairs\n",
    "    for pairs in prods.values()\n",
    "    if pairs.shape[0] == 1\n",
    "])\n",
    "\n",
    "print(f\"Count of updated pairs of numbers: {len(numbers)}\")"
   ]
  },
  {
   "cell_type": "code",
   "execution_count": 6,
   "metadata": {},
   "outputs": [
    {
     "name": "stdout",
     "output_type": "stream",
     "text": [
      "Count of updated pairs of numbers: 1\n"
     ]
    }
   ],
   "source": [
    "# Define new pairs for sums based on updated pairs of numbers\n",
    "sums = {\n",
    "    s: numbers[numbers.sum(axis=1) == s]\n",
    "    for s in np.unique(numbers.sum(axis=1))\n",
    "}\n",
    "\n",
    "# Update the pairs of numbers:\n",
    "# consider the pairs related with each sum, and keep only those that are single for a related sum\n",
    "numbers = np.concatenate([\n",
    "    pairs\n",
    "    for pairs in sums.values()\n",
    "    if pairs.shape[0] == 1\n",
    "])\n",
    "\n",
    "print(f\"Count of updated pairs of numbers: {len(numbers)}\")"
   ]
  },
  {
   "cell_type": "code",
   "execution_count": 7,
   "metadata": {},
   "outputs": [
    {
     "name": "stdout",
     "output_type": "stream",
     "text": [
      "Determinated numbers are 4 and 13\n"
     ]
    }
   ],
   "source": [
    "# Print the numbers that are left\n",
    "a, b = np.squeeze(numbers)\n",
    "print(f\"Determinated numbers are {a} and {b}\")"
   ]
  }
 ],
 "metadata": {
  "kernelspec": {
   "display_name": "base",
   "language": "python",
   "name": "python3"
  },
  "language_info": {
   "codemirror_mode": {
    "name": "ipython",
    "version": 3
   },
   "file_extension": ".py",
   "mimetype": "text/x-python",
   "name": "python",
   "nbconvert_exporter": "python",
   "pygments_lexer": "ipython3",
   "version": "3.12.7"
  }
 },
 "nbformat": 4,
 "nbformat_minor": 2
}
