{
 "cells": [
  {
   "cell_type": "markdown",
   "metadata": {},
   "source": [
    "#### The Two Wise Men Problem\n",
    "\n",
    "Two wise men, Sage P and Sage S, are given two different natural numbers 𝑥 and 𝑦, where 1<𝑥,𝑦<100.\n",
    "\n",
    "Sage P is told the product 𝑃=𝑥⋅𝑦, while Sage S is told the sum 𝑆=𝑥+𝑦. Neither of them knows the actual values of 𝑥 and 𝑦.\n",
    "\n",
    "The following conversation takes place:\n",
    "\n",
    "Sage P: \"I don't know what the numbers are.\"\n",
    "\n",
    "Sage S: \"I knew that already.\"\n",
    "\n",
    "Sage P: \"Oh, now I know the numbers!\"\n",
    "\n",
    "Sage S: \"And now I do too!\"\n",
    "\n",
    "What are the numbers 𝑥 and 𝑦?"
   ]
  },
  {
   "cell_type": "code",
   "execution_count": 2,
   "metadata": {},
   "outputs": [
    {
     "name": "stdout",
     "output_type": "stream",
     "text": [
      "Усього є:\n",
      "- 4851 пар чисел на проміжку [2, 99]\n",
      "- 2843 унікальних добутків цих пар чисел\n",
      "- 195 унікальних сум цих пар чисел\n"
     ]
    }
   ],
   "source": [
    "import numpy as np\n",
    "\n",
    "# Побудувати 2-й масив пар чисел на проміжку [2, 99]\n",
    "# Зауваження: порядок чисел у парі не важливий, тобто пара (2, 3) є такою ж, як і пара (3, 2)\n",
    "numbers = np.array([\n",
    "    [a, b]\n",
    "    for a in range(2, 100)\n",
    "    for b in range(a, 100)\n",
    "])\n",
    "\n",
    "# Щоб зменшити діапазон можливих пар чисел, \"Prod\" може розглядати тільки\n",
    "# цілі числа на проміжку [2, 99], добуток яких дорівнює заданому числу\n",
    "# ---------------------------------------------------------------------------\n",
    "# Кожен ключ у словнику відповідає 2D масиву пар чисел, \n",
    "# добуток яких дорівнює цьому ключу\n",
    "prods = {\n",
    "    p: numbers[numbers.prod(axis=1) == p]\n",
    "    for p in np.unique(numbers.prod(axis=1))\n",
    "}\n",
    "\n",
    "# \"Sum\" може робити те саме з заданим числом\n",
    "# -----------------------------------------------------\n",
    "# Кожен ключ у словнику відповідає 2D масиву пар чисел,\n",
    "# сума яких дорівнює цьому ключу\n",
    "sums = {\n",
    "    s: numbers[numbers.sum(axis=1) == s]\n",
    "    for s in np.unique(numbers.sum(axis=1))\n",
    "}\n",
    "\n",
    "# Виведення статистики\n",
    "print(\"Усього є:\")\n",
    "print(f\"- {len(numbers)} пар чисел на проміжку [2, 99]\")\n",
    "print(f\"- {len(prods)} унікальних добутків цих пар чисел\")\n",
    "print(f\"- {len(sums)} унікальних сум цих пар чисел\")"
   ]
  },
  {
   "cell_type": "code",
   "execution_count": 3,
   "metadata": {},
   "outputs": [
    {
     "name": "stdout",
     "output_type": "stream",
     "text": [
      "Кількість оновлених пар чисел: 145\n"
     ]
    }
   ],
   "source": [
    "# Оновлення пар чисел:\n",
    "# Розглядаємо пари, пов'язані з кожною сумою в словнику `sums`,\n",
    "# і зберігаємо лише ті пари, добутки яких мають більше ніж одну пару, що відповідає цьому добутку\n",
    "numbers = np.concatenate([\n",
    "    pairs  # Для кожної групи пар чисел\n",
    "    for pairs in sums.values()  # Розглядаємо всі пари чисел з кожної суми\n",
    "    if all(prods[p].shape[0] != 1 for p in pairs.prod(axis=1))  # Перевіряємо, що для кожного добутку є більше ніж одна пара\n",
    "])\n",
    "\n",
    "# Виведення кількості оновлених пар чисел\n",
    "print(f\"Кількість оновлених пар чисел: {len(numbers)}\")"
   ]
  },
  {
   "cell_type": "code",
   "execution_count": 4,
   "metadata": {},
   "outputs": [
    {
     "name": "stdout",
     "output_type": "stream",
     "text": [
      "Кількість оновлених пар чисел: 86\n"
     ]
    }
   ],
   "source": [
    "# Визначаємо нові пари для добутків на основі оновлених пар чисел\n",
    "prods = {\n",
    "    p: numbers[numbers.prod(axis=1) == p]  # Для кожного унікального добутку створюємо відповідний масив пар\n",
    "    for p in np.unique(numbers.prod(axis=1))  # Для кожного унікального добутку чисел\n",
    "}\n",
    "\n",
    "# Оновлюємо пари чисел:\n",
    "# Розглядаємо пари, пов'язані з кожним добутком, і зберігаємо лише ті, які є єдиними для цього добутку\n",
    "numbers = np.concatenate([\n",
    "    pairs  # Для кожної групи пар чисел\n",
    "    for pairs in prods.values()  # Розглядаємо всі пари чисел для кожного добутку\n",
    "    if pairs.shape[0] == 1  # Залишаємо лише ті пари, які мають лише одну пару для цього добутку\n",
    "])\n",
    "\n",
    "# Виведення кількості оновлених пар чисел\n",
    "print(f\"Кількість оновлених пар чисел: {len(numbers)}\")"
   ]
  },
  {
   "cell_type": "code",
   "execution_count": 5,
   "metadata": {},
   "outputs": [
    {
     "name": "stdout",
     "output_type": "stream",
     "text": [
      "Кількість оновлених пар чисел: 1\n"
     ]
    }
   ],
   "source": [
    "# Визначаємо нові пари для сум на основі оновлених пар чисел\n",
    "sums = {\n",
    "    s: numbers[numbers.sum(axis=1) == s]  # Для кожної унікальної суми створюємо відповідний масив пар\n",
    "    for s in np.unique(numbers.sum(axis=1))  # Для кожної унікальної суми чисел\n",
    "}\n",
    "\n",
    "# Оновлюємо пари чисел:\n",
    "# Розглядаємо пари, пов'язані з кожною сумою, і зберігаємо лише ті, які є єдиними для цієї суми\n",
    "numbers = np.concatenate([\n",
    "    pairs  # Для кожної групи пар чисел\n",
    "    for pairs in sums.values()  # Розглядаємо всі пари чисел для кожної суми\n",
    "    if pairs.shape[0] == 1  # Залишаємо лише ті пари, які мають лише одну пару для цієї суми\n",
    "])\n",
    "\n",
    "# Виведення кількості оновлених пар чисел\n",
    "print(f\"Кількість оновлених пар чисел: {len(numbers)}\")"
   ]
  },
  {
   "cell_type": "code",
   "execution_count": 6,
   "metadata": {},
   "outputs": [
    {
     "name": "stdout",
     "output_type": "stream",
     "text": [
      "Визначені числа: 4 та 13\n"
     ]
    }
   ],
   "source": [
    "# Виводимо числа, що залишились\n",
    "a, b = np.squeeze(numbers)  # Розпаковуємо залишкові числа в окремі змінні a та b\n",
    "print(f\"Визначені числа: {a} та {b}\")  # Виводимо визначені числа"
   ]
  }
 ],
 "metadata": {
  "kernelspec": {
   "display_name": "base",
   "language": "python",
   "name": "python3"
  },
  "language_info": {
   "codemirror_mode": {
    "name": "ipython",
    "version": 3
   },
   "file_extension": ".py",
   "mimetype": "text/x-python",
   "name": "python",
   "nbconvert_exporter": "python",
   "pygments_lexer": "ipython3",
   "version": "3.12.7"
  }
 },
 "nbformat": 4,
 "nbformat_minor": 2
}
